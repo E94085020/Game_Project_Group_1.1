{
 "cells": [
  {
   "cell_type": "code",
   "execution_count": null,
   "id": "a78e4b83-729b-42c9-9bb2-d838bc5ba12c",
   "metadata": {},
   "outputs": [],
   "source": []
  },
  {
   "cell_type": "code",
   "execution_count": 2,
   "id": "15b8263b-a13d-4bb4-8cb3-d4d00edc0202",
   "metadata": {
    "tags": []
   },
   "outputs": [],
   "source": [
    "import pygame\n",
    "from start_menu import StartMenu\n",
    "from setting import FPS\n",
    "\n",
    "if __name__ == '__main__':\n",
    "    # initialization\n",
    "    pygame.init()\n",
    "  \n",
    "    covid_game = StartMenu()\n",
    "    covid_game.menu_run()"
   ]
  },
  {
   "cell_type": "code",
   "execution_count": null,
   "id": "540f6d9b-4de8-4fb4-bbe8-083168173ebe",
   "metadata": {},
   "outputs": [],
   "source": []
  },
  {
   "cell_type": "code",
   "execution_count": 2,
   "id": "0d32a7f6-a018-4795-b4a1-9d93de1f4ddf",
   "metadata": {},
   "outputs": [
    {
     "ename": "SyntaxError",
     "evalue": "EOL while scanning string literal (<ipython-input-2-ee5613502a0c>, line 15)",
     "output_type": "error",
     "traceback": [
      "\u001b[1;36m  File \u001b[1;32m\"<ipython-input-2-ee5613502a0c>\"\u001b[1;36m, line \u001b[1;32m15\u001b[0m\n\u001b[1;33m    \"\"\"\"\u001b[0m\n\u001b[1;37m        \n^\u001b[0m\n\u001b[1;31mSyntaxError\u001b[0m\u001b[1;31m:\u001b[0m EOL while scanning string literal\n"
     ]
    }
   ],
   "source": [
    "\"\"\"\"\n",
    "w=跳\n",
    "s=蹲下\n",
    "a=向左移動\n",
    "d=向右移動\n",
    "空格=酒精攻擊\n",
    "u=轉向左邊\n",
    "i=轉向右邊\n",
    "滑鼠點擊射擊\n",
    "\n",
    "\n",
    "酒精是帶有範圍傷害和擊退效果的強力攻擊\n",
    "酒精需要充能 最多儲存5個充能\n",
    "\n",
    "\"\"\"\""
   ]
  },
  {
   "cell_type": "code",
   "execution_count": null,
   "id": "bcc37991-0684-4359-8184-1de455d767da",
   "metadata": {},
   "outputs": [],
   "source": []
  }
 ],
 "metadata": {
  "kernelspec": {
   "display_name": "Python 3",
   "language": "python",
   "name": "python3"
  },
  "language_info": {
   "codemirror_mode": {
    "name": "ipython",
    "version": 3
   },
   "file_extension": ".py",
   "mimetype": "text/x-python",
   "name": "python",
   "nbconvert_exporter": "python",
   "pygments_lexer": "ipython3",
   "version": "3.8.8"
  }
 },
 "nbformat": 4,
 "nbformat_minor": 5
}
